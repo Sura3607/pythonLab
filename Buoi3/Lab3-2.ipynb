{
 "cells": [
  {
   "cell_type": "code",
   "execution_count": 2,
   "metadata": {},
   "outputs": [
    {
     "name": "stdout",
     "output_type": "stream",
     "text": [
      "Đủ điều kiện bỏ phiếu\n"
     ]
    }
   ],
   "source": [
    "#Ex1\n",
    "age = int(input(\"Tuổi: \"))\n",
    "\n",
    "if age >= 18:\n",
    "    print(\"Đủ điều kiện bỏ phiếu\")\n",
    "else:\n",
    "    print(\"Không đủ điều kiện bỏ phiếu\")"
   ]
  },
  {
   "cell_type": "code",
   "execution_count": 2,
   "metadata": {},
   "outputs": [
    {
     "name": "stdout",
     "output_type": "stream",
     "text": [
      "20 là số chẵn\n"
     ]
    }
   ],
   "source": [
    "#Ex2\n",
    "num = int(input('Nhập: '))\n",
    "\n",
    "if num % 2 == 0:\n",
    "    print(f\"{num} là số chẵn\")\n",
    "else:\n",
    "    print(f\"{num} là số lẻ\")"
   ]
  },
  {
   "cell_type": "code",
   "execution_count": 4,
   "metadata": {},
   "outputs": [
    {
     "name": "stdout",
     "output_type": "stream",
     "text": [
      "34 không chia hết cho 7\n"
     ]
    }
   ],
   "source": [
    "#Ex3\n",
    "num = int(input('Nhập'))\n",
    "\n",
    "if num  % 7 == 0:\n",
    "    print(f\"{num} chia hết cho 7\")\n",
    "else:\n",
    "    print(f\"{num} không chia hết cho 7\")"
   ]
  },
  {
   "cell_type": "code",
   "execution_count": 5,
   "metadata": {},
   "outputs": [
    {
     "name": "stdout",
     "output_type": "stream",
     "text": [
      "Chu so cuoi cung chia het cho 3\n"
     ]
    }
   ],
   "source": [
    "#Ex4\n",
    "num = input('Nhập: ')\n",
    "lastDigit = int(num[len(num)-1])\n",
    "if lastDigit % 3 == 0:\n",
    "    print(f\"Chu so cuoi cung chia het cho 3\")\n",
    "else:\n",
    "    print(\"chu so cuoi cung khong chia het cho 3\")\n"
   ]
  },
  {
   "cell_type": "code",
   "execution_count": 6,
   "metadata": {},
   "outputs": [
    {
     "name": "stdout",
     "output_type": "stream",
     "text": [
      "SAI, SO DUNG LA 5\n"
     ]
    }
   ],
   "source": [
    "#Ex5\n",
    "import random\n",
    "\n",
    "secret = random.randint(1, 9)\n",
    "guess = int(input(\"Doan 1 so tu 1-9: \"))\n",
    "\n",
    "if guess == secret:\n",
    "    print(\"CHUC MUNG!\")\n",
    "else:\n",
    "    print(f\"SAI, SO DUNG LA {secret}\")"
   ]
  },
  {
   "cell_type": "code",
   "execution_count": 7,
   "metadata": {},
   "outputs": [
    {
     "name": "stdout",
     "output_type": "stream",
     "text": [
      "Monday\n"
     ]
    }
   ],
   "source": [
    "#Ex6\n",
    "listDays = ['Sunday', 'Monday', 'Tuesday', 'Wednesday','Thursday','Friday','Saturday']\n",
    "day = int(input(\"Nhap tu 1-7\"))\n",
    "\n",
    "print(listDays[day-1])"
   ]
  }
 ],
 "metadata": {
  "kernelspec": {
   "display_name": "Python 3",
   "language": "python",
   "name": "python3"
  },
  "language_info": {
   "codemirror_mode": {
    "name": "ipython",
    "version": 3
   },
   "file_extension": ".py",
   "mimetype": "text/x-python",
   "name": "python",
   "nbconvert_exporter": "python",
   "pygments_lexer": "ipython3",
   "version": "3.12.4"
  }
 },
 "nbformat": 4,
 "nbformat_minor": 2
}
