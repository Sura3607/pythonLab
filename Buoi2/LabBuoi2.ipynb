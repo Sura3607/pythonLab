{
  "cells": [
    {
      "cell_type": "code",
      "execution_count": 42,
      "metadata": {
        "colab": {
          "base_uri": "https://localhost:8080/"
        },
        "id": "OLjVRBlpz4DW",
        "outputId": "ca57c9c0-5e8e-4f25-b9a7-2c09efff3739"
      },
      "outputs": [
        {
          "name": "stdout",
          "output_type": "stream",
          "text": [
            "12\n"
          ]
        }
      ],
      "source": [
        "#Ex1\n",
        "s = \"Day la chuoi\"\n",
        "print(len(s))"
      ]
    },
    {
      "cell_type": "code",
      "execution_count": 43,
      "metadata": {
        "colab": {
          "base_uri": "https://localhost:8080/"
        },
        "id": "P0jwvQ0z0MZc",
        "outputId": "b9fc7e75-30ed-4734-df76-910bae031b87"
      },
      "outputs": [
        {
          "data": {
            "text/plain": [
              "Counter({'o': 3, 'g': 2, 'l': 1, 'e': 1, '.': 1, 'c': 1, 'm': 1})"
            ]
          },
          "execution_count": 43,
          "metadata": {},
          "output_type": "execute_result"
        }
      ],
      "source": [
        "#Ex2\n",
        "from collections import Counter\n",
        "string = 'google.com'\n",
        "Counter(string)"
      ]
    },
    {
      "cell_type": "code",
      "execution_count": 44,
      "metadata": {
        "colab": {
          "base_uri": "https://localhost:8080/"
        },
        "id": "tsNLkCLM0irO",
        "outputId": "05cbd6ce-6253-4573-d29c-6b192ce7ab92"
      },
      "outputs": [
        {
          "name": "stdout",
          "output_type": "stream",
          "text": [
            "w3ce\n",
            "w3w3\n",
            "\n"
          ]
        }
      ],
      "source": [
        "#Ex3\n",
        "\n",
        "strings = ['w3resource','w3', 'w']\n",
        "def get2Made(s):\n",
        "  if len(s)<2:\n",
        "    return \"\"\n",
        "  return s[:2]+s[-2:]\n",
        "\n",
        "for s in strings:\n",
        "  print(get2Made(s))"
      ]
    },
    {
      "cell_type": "code",
      "execution_count": 45,
      "metadata": {
        "id": "B_ZFXJJU2Q0_"
      },
      "outputs": [
        {
          "name": "stdout",
          "output_type": "stream",
          "text": [
            "resta$t\n"
          ]
        }
      ],
      "source": [
        "#Ex4\n",
        "def fistCharChange(s):\n",
        "    fistChar = s[0]\n",
        "    return fistChar + s[1:].replace(fistChar,'$')\n",
        "\n",
        "print(fistCharChange('restart'))"
      ]
    },
    {
      "cell_type": "code",
      "execution_count": 46,
      "metadata": {
        "colab": {
          "base_uri": "https://localhost:8080/"
        },
        "id": "UMykJ7uh3MU7",
        "outputId": "e204687a-df53-4b39-c309-c709764efd25"
      },
      "outputs": [
        {
          "name": "stdout",
          "output_type": "stream",
          "text": [
            "xyc abz\n"
          ]
        }
      ],
      "source": [
        "#Ex5\n",
        "def SwapFistTwo(s1, s2):\n",
        "  if len(s1) < 2 or len(s2) < 2:\n",
        "    return \"\"\n",
        "  return s2[:2] + s1[2:] + \" \" + s1[:2]+s2[2:]\n",
        "\n",
        "s2 = \"xyz\"\n",
        "s1 = \"abc\"\n",
        "print(SwapFistTwo(s1,s2))"
      ]
    },
    {
      "cell_type": "code",
      "execution_count": 47,
      "metadata": {
        "colab": {
          "base_uri": "https://localhost:8080/"
        },
        "id": "5CRSmU3g4VGX",
        "outputId": "5d78f079-5abf-469d-bb7f-7ff4872cfa20"
      },
      "outputs": [
        {
          "name": "stdout",
          "output_type": "stream",
          "text": [
            "abcing\n",
            "stringly\n"
          ]
        }
      ],
      "source": [
        "#Ex6\n",
        "def addIng(s):\n",
        "  if len(s) < 3:\n",
        "    return s\n",
        "  if s[-3:] == \"ing\":\n",
        "    return s+ \"ly\"\n",
        "  return s + \"ing\"\n",
        "\n",
        "print(addIng(\"abc\"))\n",
        "print(addIng(\"string\"))"
      ]
    },
    {
      "cell_type": "code",
      "execution_count": 48,
      "metadata": {
        "id": "yehHZfzp49I9"
      },
      "outputs": [
        {
          "name": "stdout",
          "output_type": "stream",
          "text": [
            "The lyrics is good!\n",
            "The lyrics is poor!\n"
          ]
        }
      ],
      "source": [
        "#Ex7\n",
        "\n",
        "def firstAppearance(string):\n",
        "    notIdx = string.find('not')\n",
        "    poorIdx = string.rfind('poor')\n",
        "\n",
        "    if notIdx == -1  or poorIdx == -1 or notIdx > poorIdx:\n",
        "        return string\n",
        "    \n",
        "    return string[:notIdx] + \"good\" + string[poorIdx + 4:]\n",
        "\n",
        "s1 = 'The lyrics is not that poor!'\n",
        "s2 = 'The lyrics is poor!'\n",
        "print(firstAppearance(s1))\n",
        "print(firstAppearance(s2))\n"
      ]
    },
    {
      "cell_type": "code",
      "execution_count": 49,
      "metadata": {},
      "outputs": [
        {
          "name": "stdout",
          "output_type": "stream",
          "text": [
            "Longest word: Programming\n",
            "Length of the longest word: 11\n"
          ]
        }
      ],
      "source": [
        "#Ex8\n",
        "# takes a list of words and return the longest word and the length of the longest\n",
        "\n",
        "listWords = [\"Sun\", \"Programming\", \"Horizon\", \"Robot\", \"Exercises\"]\n",
        "\n",
        "def longestWord(words):\n",
        "    lWord = words[0]\n",
        "    for w in words:\n",
        "        if len(w) > len(lWord):\n",
        "            lWord = w\n",
        "    return lWord, len(lWord)\n",
        "\n",
        "word, size = longestWord(listWords)\n",
        "print(f\"Longest word: {word}\")\n",
        "print(f\"Length of the longest word: {size}\")"
      ]
    },
    {
      "cell_type": "code",
      "execution_count": 50,
      "metadata": {},
      "outputs": [
        {
          "name": "stdout",
          "output_type": "stream",
          "text": [
            "hello ro\n"
          ]
        }
      ],
      "source": [
        "#Ex9\n",
        "\n",
        "def removeIndex(s, idx):\n",
        "    if idx > len(s):\n",
        "        return s\n",
        "    return s[:idx] + s[idx+1:]\n",
        "\n",
        "s = \"hello bro\"\n",
        "print(removeIndex(s,6))"
      ]
    },
    {
      "cell_type": "code",
      "execution_count": 51,
      "metadata": {},
      "outputs": [
        {
          "name": "stdout",
          "output_type": "stream",
          "text": [
            "toboR\n"
          ]
        }
      ],
      "source": [
        "#Ex10\n",
        "\n",
        "def swapFistLast(s):\n",
        "    return s[-1]+s[1:-1]+s[0]\n",
        "\n",
        "s = \"Robot\"\n",
        "print(swapFistLast(s))"
      ]
    },
    {
      "cell_type": "code",
      "execution_count": 52,
      "metadata": {},
      "outputs": [
        {
          "name": "stdout",
          "output_type": "stream",
          "text": [
            "hlobo\n"
          ]
        }
      ],
      "source": [
        "#Ex11\n",
        "\n",
        "def removeCharOdd(s):\n",
        "    result = \"\"\n",
        "    for i in range(len(s)):\n",
        "        if i%2 == 0:\n",
        "            result += s[i]\n",
        "    return result\n",
        "\n",
        "s = \"hello bro\"\n",
        "print(removeCharOdd(s))"
      ]
    },
    {
      "cell_type": "code",
      "execution_count": 53,
      "metadata": {},
      "outputs": [
        {
          "name": "stdout",
          "output_type": "stream",
          "text": [
            "{'Chiếc': 1, 'lá': 1, 'rơi': 3, 'chậm': 1, 'rãi': 1, 'trong': 1, 'gió,': 1, 'xuống': 1, 'mặt': 1, 'đất': 1, 'một': 1, 'cách': 1, 'nhẹ': 1, 'nhàng.': 1}\n"
          ]
        }
      ],
      "source": [
        "#Ex12\n",
        "text = \"Chiếc lá rơi rơi chậm rãi trong gió, rơi xuống mặt đất một cách nhẹ nhàng.\"\n",
        "\n",
        "def countOccurrences(text):\n",
        "    dic = {}\n",
        "    words = text.split()\n",
        "    for w in words:\n",
        "        if w in dic:\n",
        "            dic[w]+=1\n",
        "        else:\n",
        "            dic[w] =1\n",
        "    return dic\n",
        "\n",
        "print(countOccurrences(text))"
      ]
    },
    {
      "cell_type": "code",
      "execution_count": 54,
      "metadata": {},
      "outputs": [
        {
          "name": "stdout",
          "output_type": "stream",
          "text": [
            "Input: hellopro\n",
            "Input upper: HELLOPRO\n",
            "Input lower: hellopro\n"
          ]
        }
      ],
      "source": [
        "#Ex13\n",
        "\n",
        "userInput = input(\"Nhap: \")\n",
        "print(f\"Input: {userInput}\")\n",
        "print(f\"Input upper: {userInput.upper()}\")\n",
        "print(f\"Input lower: {userInput.lower()}\")"
      ]
    },
    {
      "cell_type": "code",
      "execution_count": 55,
      "metadata": {},
      "outputs": [
        {
          "name": "stdout",
          "output_type": "stream",
          "text": [
            "black, green, red, white\n"
          ]
        }
      ],
      "source": [
        "#Ex14\n",
        "\n",
        "string = \"red, white, black, red, green, black\"\n",
        "\n",
        "def sortalpha(string):\n",
        "    words = string.split(\", \")\n",
        "    words.sort()\n",
        "    prev = 0\n",
        "    next = 1\n",
        "    result = words[prev]\n",
        "    while next < len(words):\n",
        "        if words[prev] == words[next]:\n",
        "            next+=1\n",
        "            continue\n",
        "        prev = next\n",
        "        next +=1\n",
        "        result += \", \" + words[prev]\n",
        "    return result\n",
        "\n",
        "print(sortalpha(string))"
      ]
    },
    {
      "cell_type": "code",
      "execution_count": 56,
      "metadata": {},
      "outputs": [
        {
          "name": "stdout",
          "output_type": "stream",
          "text": [
            "<i>Python</i>\n",
            "<b>Python Tutorial</b>\n"
          ]
        }
      ],
      "source": [
        "#Ex15\n",
        "\n",
        "def add_tags(tag,s):\n",
        "    return f'<{tag}>{s}</{tag}>'\n",
        "\n",
        "print(add_tags('i', 'Python'))\n",
        "print(add_tags('b', 'Python Tutorial'))"
      ]
    },
    {
      "cell_type": "code",
      "execution_count": 57,
      "metadata": {},
      "outputs": [
        {
          "name": "stdout",
          "output_type": "stream",
          "text": [
            "[[Python]]\n",
            "{{PHP}}\n"
          ]
        }
      ],
      "source": [
        "#Ex16\n",
        "\n",
        "def insert_sting_middle(s1,s2):\n",
        "    return s1[:(int)(len(s1)/2)] + s2 + s1[(int)(len(s1)/2):]\n",
        "\n",
        "print(insert_sting_middle('[[]]', 'Python'))\n",
        "print(insert_sting_middle('{{}}', 'PHP'))"
      ]
    },
    {
      "cell_type": "code",
      "execution_count": 58,
      "metadata": {},
      "outputs": [
        {
          "name": "stdout",
          "output_type": "stream",
          "text": [
            "onononon\n",
            "eseseses\n"
          ]
        }
      ],
      "source": [
        "#Ex17\n",
        "def insert_end(s,nCopy =4):\n",
        "    result = \"\"\n",
        "    for i in range(nCopy):\n",
        "        result += s[-2:]\n",
        "    return result\n",
        "\n",
        "print(insert_end('Python'))\n",
        "print(insert_end('Exercises'))"
      ]
    },
    {
      "cell_type": "code",
      "execution_count": 59,
      "metadata": {},
      "outputs": [
        {
          "name": "stdout",
          "output_type": "stream",
          "text": [
            "ipy\n",
            "pyt\n"
          ]
        }
      ],
      "source": [
        "#Ex18\n",
        "def first_three(s):\n",
        "    if len(s) < 3:\n",
        "        return s\n",
        "    return s[:3]\n",
        "\n",
        "print(first_three('ipy'))\n",
        "print(first_three('python'))"
      ]
    },
    {
      "cell_type": "code",
      "execution_count": 60,
      "metadata": {},
      "outputs": [
        {
          "name": "stdout",
          "output_type": "stream",
          "text": [
            "https://www.w3resource.com/python\n"
          ]
        }
      ],
      "source": [
        "#Ex19\n",
        "\n",
        "def  specifiedCharacter(s,char):\n",
        "    idx =  s.rfind(char)\n",
        "    if idx == -1:\n",
        "        return s\n",
        "    return s[:idx]\n",
        "\n",
        "string = \"https://www.w3resource.com/python-exercises\"\n",
        "print(specifiedCharacter(string, \"-\"))"
      ]
    },
    {
      "cell_type": "code",
      "execution_count": 61,
      "metadata": {},
      "outputs": [
        {
          "name": "stdout",
          "output_type": "stream",
          "text": [
            "87654321\n",
            "12345678910\n"
          ]
        }
      ],
      "source": [
        "#Ex20\n",
        "s1=\"12345678\"\n",
        "s2 =\"12345678910\"\n",
        "def reverseMultifold4(s):\n",
        "    if len(s)%4 != 0:\n",
        "        return s\n",
        "    return s[::-1]\n",
        "\n",
        "print(reverseMultifold4(s1))\n",
        "print(reverseMultifold4(s2))"
      ]
    },
    {
      "cell_type": "code",
      "execution_count": 62,
      "metadata": {},
      "outputs": [
        {
          "name": "stdout",
          "output_type": "stream",
          "text": [
            "aBcdfr\n",
            "ACVC UIPASD\n"
          ]
        }
      ],
      "source": [
        "#Ex21\n",
        "def upperAllIf(s):\n",
        "    if len(s) < 4:\n",
        "        return s\n",
        "    charUpper = 0\n",
        "    for c in s[:4]:\n",
        "        if 'A' <= c <= 'Z':\n",
        "            charUpper+=1\n",
        "    if charUpper < 2:\n",
        "        return s\n",
        "    return s.upper()\n",
        "\n",
        "s1 = \"aBcdfr\"\n",
        "s2 = \"AcVC uipasd\"\n",
        "\n",
        "print(upperAllIf(s1))\n",
        "print(upperAllIf(s2))"
      ]
    },
    {
      "cell_type": "code",
      "execution_count": 63,
      "metadata": {},
      "outputs": [
        {
          "name": "stdout",
          "output_type": "stream",
          "text": [
            "abcd\n"
          ]
        }
      ],
      "source": [
        "#Ex22\n",
        "\n",
        "def sortLexicographically(s):\n",
        "    return ''.join(sorted(s))\n",
        "\n",
        "s = \"dbca\"\n",
        "print(sortLexicographically(s))"
      ]
    },
    {
      "cell_type": "code",
      "execution_count": 64,
      "metadata": {},
      "outputs": [
        {
          "name": "stdout",
          "output_type": "stream",
          "text": [
            "Python Hello wold\n"
          ]
        }
      ],
      "source": [
        "#Ex23\n",
        "text = \"\"\"\n",
        "        Python\n",
        "\n",
        "        Hello wold\n",
        "        \"\"\"\n",
        "def removeNewline(text):\n",
        "    words = text.split()\n",
        "    return \" \".join(words)\n",
        "\n",
        "print(removeNewline(text))\n",
        "            "
      ]
    },
    {
      "cell_type": "code",
      "execution_count": 65,
      "metadata": {},
      "outputs": [
        {
          "name": "stdout",
          "output_type": "stream",
          "text": [
            "True\n",
            "False\n"
          ]
        }
      ],
      "source": [
        "#Ex24\n",
        "def checkStringStarts(string,spe):\n",
        "    if string[:len(spe)] == spe:\n",
        "        return True\n",
        "    return False\n",
        "\n",
        "s1 = \"Python\"\n",
        "s2 = \"Javascipt\"\n",
        "spe = \"Pyt\"\n",
        "\n",
        "print(checkStringStarts(s1,spe))\n",
        "print(checkStringStarts(s2,spe))"
      ]
    },
    {
      "cell_type": "code",
      "execution_count": 66,
      "metadata": {},
      "outputs": [
        {
          "name": "stdout",
          "output_type": "stream",
          "text": [
            "ABc\n",
            "DeFJk\n"
          ]
        }
      ],
      "source": [
        "#Ex25\n",
        "\n",
        "def encryptionCaesar(s,key = 3):\n",
        "    encry = ''\n",
        "    for i in range(len(s)):\n",
        "        c = s[i]\n",
        "        e = ord(c) + key\n",
        "        if 'a' <= c <='z':\n",
        "            if e < 97:\n",
        "                e = 122 - (96 - e) % 26\n",
        "            elif e > 122:\n",
        "                e= ((e - 97) % 26) + 97\n",
        "        elif 'A' <= c <='Z':\n",
        "            if e < 65:\n",
        "                e = 90 - (65 - e) % 26\n",
        "            elif e > 90:\n",
        "                e = ((e - 65) % 26) + 65\n",
        "        encry += chr(e)\n",
        "    return encry\n",
        "\n",
        "s1 = \"XYz\"\n",
        "s2 = \"AbCGh\"\n",
        "print(encryptionCaesar(s1))\n",
        "print(encryptionCaesar(s2))\n",
        "        \n"
      ]
    },
    {
      "cell_type": "code",
      "execution_count": 67,
      "metadata": {},
      "outputs": [
        {
          "name": "stdout",
          "output_type": "stream",
          "text": [
            "In cryptography, a Caesar cipher, also known as Ca\n",
            "esar's cipher, the shift cipher, Caesar's code or \n",
            "Caesar shift, is one of the simplest and most wide\n",
            "ly known encryption techniques.\n"
          ]
        }
      ],
      "source": [
        "#Ex26\n",
        "text = \"In cryptography, a Caesar cipher, also known as Caesar's cipher, the shift cipher, Caesar's code or Caesar shift, is one of the simplest and most widely known encryption techniques.\"\n",
        "def displayFormatted(text,width = 50):\n",
        "    result =[]\n",
        "    line = (int)(len(text)/width)\n",
        "    end = len(text) - line*width\n",
        "    for l in range(line):\n",
        "        result.append(text[width*l:width*(l+1)])\n",
        "\n",
        "    result.append(text[-end:])\n",
        "    return \"\\n\".join(result)\n",
        "\n",
        "print(displayFormatted(text))\n",
        "\n"
      ]
    },
    {
      "cell_type": "code",
      "execution_count": 68,
      "metadata": {},
      "outputs": [
        {
          "name": "stdout",
          "output_type": "stream",
          "text": [
            "In cryptography, a Caesar cipher\n",
            "It is a type of substitution cipher in which each letter in the plaintext is replaced by a letter some fixed number of positions down the alphabet.\n",
            "For example, with a left shift of 3\n"
          ]
        }
      ],
      "source": [
        "#Ex27\n",
        "\n",
        "def removeIndentation(text):\n",
        "    lines = text.split(\"\\n\")\n",
        "    results =[]\n",
        "    for line in lines:\n",
        "        words = line.split()\n",
        "        results.append(\" \".join(words))\n",
        "    return \"\\n\".join(results)\n",
        "\n",
        "text =  \"\"\"            In cryptography, a Caesar cipher\n",
        "        It is a type of substitution cipher in which each letter in the plaintext is replaced by a letter some fixed number of positions down the alphabet.\n",
        "          For example, with a left shift of 3\"\"\"\n",
        "print(removeIndentation(text))\n"
      ]
    },
    {
      "cell_type": "code",
      "execution_count": 69,
      "metadata": {},
      "outputs": [
        {
          "name": "stdout",
          "output_type": "stream",
          "text": [
            "hello: In cryptography, a Caesar cipher\n",
            "hello: It is a type of substitution cipher in which each letter in the plaintext is replaced by a letter some fixed number of positions down the alphabet.\n",
            "hello: For example, with a left shift of 3\n"
          ]
        }
      ],
      "source": [
        "#Ex28\n",
        "text = \"\"\"In cryptography, a Caesar cipher\n",
        "It is a type of substitution cipher in which each letter in the plaintext is replaced by a letter some fixed number of positions down the alphabet.\n",
        "For example, with a left shift of 3\"\"\"\n",
        "\n",
        "def addPrefixText(text, prefix):\n",
        "    text = removeIndentation(text)\n",
        "    lines = text.split(\"\\n\")\n",
        "    for i in range(len(lines)):\n",
        "        lines[i] = prefix+lines[i]\n",
        "    return \"\\n\".join(lines)\n",
        "\n",
        "prefix = \"hello: \"\n",
        "print(addPrefixText(text,prefix))\n"
      ]
    },
    {
      "cell_type": "code",
      "execution_count": 70,
      "metadata": {},
      "outputs": [
        {
          "name": "stdout",
          "output_type": "stream",
          "text": [
            "\tIn cryptography, a Caesar cipher\n",
            "It is a type of substitution cipher in which each letter in the plaintext is replaced by a letter some fixed number of positions down the alphabet.\n",
            "For example, with a left shift of 3\n"
          ]
        }
      ],
      "source": [
        "#Ex29\n",
        "text=\"\"\"In cryptography, a Caesar cipher\n",
        "It is a type of substitution cipher in which each letter in the plaintext is replaced by a letter some fixed number of positions down the alphabet.\n",
        "For example, with a left shift of 3\"\"\"\n",
        "\n",
        "def setIndentation(text,inden = 1):\n",
        "    lines = text.split(\"\\n\")\n",
        "    lines[0] = (\"\\t\" * inden) + lines[0]\n",
        "    return \"\\n\".join(lines)\n",
        "\n",
        "print(setIndentation(text))"
      ]
    },
    {
      "cell_type": "code",
      "execution_count": 71,
      "metadata": {},
      "outputs": [
        {
          "name": "stdout",
          "output_type": "stream",
          "text": [
            "12.35\n"
          ]
        }
      ],
      "source": [
        "#Ex30\n",
        "number = 12.346\n",
        "\n",
        "def decimalPlaces(number, n = 2):\n",
        "    return f'{number:.{n}f}'\n",
        "\n",
        "print(decimalPlaces(number))\n",
        "    "
      ]
    },
    {
      "cell_type": "code",
      "execution_count": 72,
      "metadata": {},
      "outputs": [
        {
          "name": "stdout",
          "output_type": "stream",
          "text": [
            "65.55\n",
            "65.547\n"
          ]
        }
      ],
      "source": [
        "#Ex31 \n",
        "def decimalPlacesWithSign(number, n = 2, flag = True):\n",
        "    if flag == False:\n",
        "        return number\n",
        "    return f'{number:.{n}f}'\n",
        "number = 65.547\n",
        "print(decimalPlacesWithSign(number))\n",
        "print(decimalPlacesWithSign(number,flag=False))"
      ]
    },
    {
      "cell_type": "code",
      "execution_count": 73,
      "metadata": {},
      "outputs": [
        {
          "name": "stdout",
          "output_type": "stream",
          "text": [
            "24\n",
            "-34\n"
          ]
        }
      ],
      "source": [
        "#Ex32\n",
        "def noDecimaPlaces(number):\n",
        "    return f'{number:.0f}'\n",
        "\n",
        "n1 = 23.678\n",
        "n2 = -34.23\n",
        "print(noDecimaPlaces(n1))\n",
        "print(noDecimaPlaces(n2))"
      ]
    },
    {
      "cell_type": "code",
      "execution_count": 74,
      "metadata": {},
      "outputs": [
        {
          "name": "stdout",
          "output_type": "stream",
          "text": [
            "0000000005\n"
          ]
        }
      ],
      "source": [
        "#Ex33\n",
        "num = 5\n",
        "def addZeroLeft(num, width = 10):\n",
        "    return '0'*(width-len(str(num))) + str(num)\n",
        "\n",
        "print(addZeroLeft(num,10))"
      ]
    },
    {
      "cell_type": "code",
      "execution_count": 75,
      "metadata": {},
      "outputs": [
        {
          "name": "stdout",
          "output_type": "stream",
          "text": [
            "23***\n"
          ]
        }
      ],
      "source": [
        "#Ex34\n",
        "num = 23\n",
        "\n",
        "def addxRight(num,width = 2):\n",
        "    return str(num) + '*'*(width-len(str(num)))\n",
        "\n",
        "print(addxRight(num,5))\n"
      ]
    },
    {
      "cell_type": "code",
      "execution_count": 76,
      "metadata": {},
      "outputs": [
        {
          "name": "stdout",
          "output_type": "stream",
          "text": [
            "1,122,422\n"
          ]
        }
      ],
      "source": [
        "#Ex35\n",
        "n = 1122422\n",
        "def commaSeparator(num):\n",
        "    return f'{num:,}'\n",
        "\n",
        "print(commaSeparator(n))"
      ]
    },
    {
      "cell_type": "code",
      "execution_count": 77,
      "metadata": {},
      "outputs": [
        {
          "name": "stdout",
          "output_type": "stream",
          "text": [
            "34.00%\n"
          ]
        }
      ],
      "source": [
        "#Ex36\n",
        "n = 0.34\n",
        "def fomatPercent(num,nPlace = 2):\n",
        "    return f'{num:.{nPlace}%}'\n",
        "\n",
        "print(fomatPercent(n))"
      ]
    },
    {
      "cell_type": "code",
      "execution_count": 92,
      "metadata": {},
      "outputs": [
        {
          "name": "stdout",
          "output_type": "stream",
          "text": [
            "Left    : '23        '\n",
            "Right   : '        23'\n",
            "Center  : '    23    '\n"
          ]
        }
      ],
      "source": [
        "#Ex37\n",
        "def displayAligne(num):\n",
        "    print(f\"Left    : '{num:<10}'\")\n",
        "    print(f\"Right   : '{num:>10}'\")\n",
        "    print(f\"Center  : '{num:^10}'\")\n",
        "\n",
        "displayAligne(23)"
      ]
    },
    {
      "cell_type": "code",
      "execution_count": 79,
      "metadata": {},
      "outputs": [
        {
          "name": "stdout",
          "output_type": "stream",
          "text": [
            "1\n"
          ]
        }
      ],
      "source": [
        "#Ex38\n",
        "def countSubstring(string, substring):\n",
        "    return string.count(substring)\n",
        "\n",
        "s = \"hello wold\"\n",
        "sub = \"lo\"\n",
        "print(countSubstring(s,sub))"
      ]
    },
    {
      "cell_type": "code",
      "execution_count": 80,
      "metadata": {},
      "outputs": [
        {
          "name": "stdout",
          "output_type": "stream",
          "text": [
            "olleh\n"
          ]
        }
      ],
      "source": [
        "#Ex39\n",
        "def revertString(s):\n",
        "    return s[::-1]\n",
        "\n",
        "s= \"hello\"\n",
        "print(revertString(s))"
      ]
    },
    {
      "cell_type": "code",
      "execution_count": 81,
      "metadata": {},
      "outputs": [
        {
          "name": "stdout",
          "output_type": "stream",
          "text": [
            "olleH woh era uoy\n"
          ]
        }
      ],
      "source": [
        "#Ex40\n",
        "text = \"Hello how are you\"\n",
        "def revertLetter(text):\n",
        "    words = text.split()\n",
        "    newWords = []\n",
        "    for w in words:\n",
        "        newWords.append(w[::-1])     \n",
        "    return ' '.join(newWords)\n",
        "\n",
        "print(revertLetter(text))"
      ]
    },
    {
      "cell_type": "code",
      "execution_count": 82,
      "metadata": {},
      "outputs": [
        {
          "name": "stdout",
          "output_type": "stream",
          "text": [
            "eo Word\n"
          ]
        }
      ],
      "source": [
        "#Ex41\n",
        "s = \"Hello World\"\n",
        "chars = ['l','H']\n",
        "def stripASetOfCharacters(string,set):\n",
        "    for c in set:\n",
        "        string = string.replace(c,\"\")\n",
        "    return string\n",
        "\n",
        "print(stripASetOfCharacters(s,chars))"
      ]
    },
    {
      "cell_type": "code",
      "execution_count": 83,
      "metadata": {},
      "outputs": [
        {
          "name": "stdout",
          "output_type": "stream",
          "text": [
            "l 3\n",
            "o 2\n"
          ]
        }
      ],
      "source": [
        "#Ex42\n",
        "def countRepeatedCharacters(s):\n",
        "    dic = {}\n",
        "    for c in s:\n",
        "        if c not in dic:\n",
        "            dic[c]= 0\n",
        "        dic[c]+=1\n",
        "\n",
        "    filter = {k: v for k, v in dic.items() if v > 1}\n",
        "    return sorted(filter.items(), key=lambda x: x[1], reverse=True)\n",
        "\n",
        "s = \"Hello Wold\"\n",
        "count = countRepeatedCharacters(s)\n",
        "for key,value in count:\n",
        "    print(f\"{key} {value}\")"
      ]
    },
    {
      "cell_type": "code",
      "execution_count": 84,
      "metadata": {},
      "outputs": [
        {
          "name": "stdout",
          "output_type": "stream",
          "text": [
            "The area of the rectangle is 1256.66cm²\n",
            "The volume of the cylinder is 1254.725cm³\n"
          ]
        }
      ],
      "source": [
        "#Ex 43\n",
        "def squareAndCubeSymbol(areaRectangle = 0, areaCylinder = 0):\n",
        "    return (f'{areaRectangle:.2f}cm\\u00b2', f'{areaCylinder:.3f}cm\\u00b3')\n",
        "\n",
        "aRetangle = 1256.6578\n",
        "aCylinder = 1254.72545\n",
        "\n",
        "fomat = squareAndCubeSymbol(areaRectangle=aRetangle,areaCylinder=aCylinder)\n",
        "print(f'The area of the rectangle is {fomat[0]}')\n",
        "print(f\"The volume of the cylinder is {fomat[1]}\")\n"
      ]
    },
    {
      "cell_type": "code",
      "execution_count": 85,
      "metadata": {},
      "outputs": [
        {
          "name": "stdout",
          "output_type": "stream",
          "text": [
            "Current character w position at 0\n",
            "Current character 3 position at 1\n",
            "Current character r position at 2\n",
            "Current character e position at 3\n",
            "Current character s position at 4\n",
            "Current character o position at 5\n",
            "Current character u position at 6\n",
            "Current character r position at 7\n",
            "Current character c position at 8\n",
            "Current character e position at 9\n"
          ]
        }
      ],
      "source": [
        "#Ex44\n",
        "def printIndexChar(s):\n",
        "    for i in range(len(s)):\n",
        "        print(f\"Current character {s[i]} position at {i}\")\n",
        "\n",
        "printIndexChar('w3resource')"
      ]
    },
    {
      "cell_type": "code",
      "execution_count": 86,
      "metadata": {},
      "outputs": [
        {
          "name": "stdout",
          "output_type": "stream",
          "text": [
            "True\n",
            "False\n"
          ]
        }
      ],
      "source": [
        "#Ex45\n",
        "s1 =\"The quick brown fox jumps over the lazy dog\"\n",
        "s2=\"Hello Bro\"\n",
        "def containsAllAlphabet(s):\n",
        "    s =s.lower()\n",
        "    alphabet = \"abcdefghijklmnopqrstuvwxyz\"\n",
        "    for c in alphabet:\n",
        "        if c not in s:\n",
        "            return False\n",
        "    return True\n",
        "\n",
        "print(containsAllAlphabet(s1))\n",
        "print(containsAllAlphabet(s2))"
      ]
    },
    {
      "cell_type": "code",
      "execution_count": 87,
      "metadata": {},
      "outputs": [
        {
          "name": "stdout",
          "output_type": "stream",
          "text": [
            "['The', 'quick', 'brown', 'fox', 'jumps', 'over', 'the', 'lazy', 'dog']\n"
          ]
        }
      ],
      "source": [
        "#Ex46\n",
        "s =\"The quick brown fox jumps over the lazy dog\"\n",
        "def convertToListOfWords(s):\n",
        "    return s.split()\n",
        "print(convertToListOfWords(s))"
      ]
    },
    {
      "cell_type": "code",
      "execution_count": 88,
      "metadata": {},
      "outputs": [
        {
          "name": "stdout",
          "output_type": "stream",
          "text": [
            "hello sIR\n"
          ]
        }
      ],
      "source": [
        "#Ex47\n",
        "def lowercaseNChars(s, n = 4):\n",
        "    return s[:n].lower() + s[n:]\n",
        "\n",
        "s = \"HELLO SIR\"\n",
        "print(lowercaseNChars(s,n=7))"
      ]
    },
    {
      "cell_type": "code",
      "execution_count": 89,
      "metadata": {},
      "outputs": [
        {
          "name": "stdout",
          "output_type": "stream",
          "text": [
            "32.054,23\n",
            "32,054.23\n"
          ]
        }
      ],
      "source": [
        "#Ex48\n",
        "\n",
        "def swapCommasAndDots(string):\n",
        "    commasAndDots = \".,\"\n",
        "    for c in commasAndDots:\n",
        "        if c not in string:\n",
        "            return string\n",
        "\n",
        "    comma = string.find(',')\n",
        "    dot = string.find('.')\n",
        "    chars = list(string)\n",
        "    chars[comma], chars[dot] = chars[dot],chars[comma]\n",
        "    return \"\".join(chars)\n",
        "\n",
        "s =  \"32.054,23\"\n",
        "print(s)\n",
        "print(swapCommasAndDots(s))"
      ]
    },
    {
      "cell_type": "code",
      "execution_count": 90,
      "metadata": {},
      "outputs": [
        {
          "name": "stdout",
          "output_type": "stream",
          "text": [
            "Có 5 nguyên âm trong \"How are you\"\n"
          ]
        }
      ],
      "source": [
        "#Ex49\n",
        "\n",
        "def countVowels(text):\n",
        "    vowels = \"aeiouAEIOU\"\n",
        "    vowel_count = 0\n",
        "    \n",
        "    for char in text:\n",
        "        if char in vowels:\n",
        "            vowel_count += 1\n",
        "    \n",
        "    return vowel_count\n",
        "\n",
        "s= \"How are you\"\n",
        "print(f'Có {countVowels(s)} nguyên âm trong \"{s}\"')"
      ]
    },
    {
      "cell_type": "code",
      "execution_count": 91,
      "metadata": {},
      "outputs": [
        {
          "name": "stdout",
          "output_type": "stream",
          "text": [
            "Python-Pandas-Pytorch\n",
            "('Python-Pandas', 'Pytorch')\n"
          ]
        }
      ],
      "source": [
        "#Ex50\n",
        "def lastDelimiter(text):\n",
        "    idx = text.rfind('-')\n",
        "    if idx == -1:\n",
        "        return text\n",
        "    return (text[:idx], text[idx+1:])\n",
        "\n",
        "s = \"Python-Pandas-Pytorch\"\n",
        "print(s)\n",
        "print(lastDelimiter(s))"
      ]
    }
  ],
  "metadata": {
    "colab": {
      "provenance": []
    },
    "kernelspec": {
      "display_name": "Python 3",
      "name": "python3"
    },
    "language_info": {
      "codemirror_mode": {
        "name": "ipython",
        "version": 3
      },
      "file_extension": ".py",
      "mimetype": "text/x-python",
      "name": "python",
      "nbconvert_exporter": "python",
      "pygments_lexer": "ipython3",
      "version": "3.12.4"
    }
  },
  "nbformat": 4,
  "nbformat_minor": 0
}
