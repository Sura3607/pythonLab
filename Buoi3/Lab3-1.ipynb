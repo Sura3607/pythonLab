{
 "cells": [
  {
   "cell_type": "code",
   "execution_count": null,
   "metadata": {},
   "outputs": [
    {
     "name": "stdout",
     "output_type": "stream",
     "text": [
      "25.0\n"
     ]
    }
   ],
   "source": [
    "#Ex1\n",
    "def calArea(base, height):\n",
    "    return 0.5 * base * height\n",
    "\n",
    "b = input('Base: ')\n",
    "h = input('Height: ')\n",
    "print(calArea(b, h))"
   ]
  },
  {
   "cell_type": "code",
   "execution_count": null,
   "metadata": {},
   "outputs": [
    {
     "name": "stdout",
     "output_type": "stream",
     "text": [
      "12\n"
     ]
    }
   ],
   "source": [
    "#Ex2\n",
    "def calPerimeter(a,b,c):\n",
    "    return a+b+c\n",
    "\n",
    "print(\"nhập các cạnh\")\n",
    "a = input('a: ')\n",
    "b = input('b: ')\n",
    "c = input('c: ')\n",
    "print(calPerimeter(a,b,c))"
   ]
  },
  {
   "cell_type": "code",
   "execution_count": null,
   "metadata": {},
   "outputs": [],
   "source": [
    "#Ex3\n",
    "def calRetangle(length, width):\n",
    "    return ((length * width, length + width) * 2)\n",
    "\n",
    "print(\"nhập chiều dài và chiều rộng\")\n",
    "length = input('length: ')\n",
    "width = input('width: ')\n",
    "area, perimeter = calRetangle(length, width)\n",
    "print(\"Area: \", area)\n",
    "print(\"Perimeter: \", perimeter)"
   ]
  },
  {
   "cell_type": "code",
   "execution_count": null,
   "metadata": {},
   "outputs": [],
   "source": [
    "#Ex4\n",
    "def calCircle(radius):\n",
    "    return (3.14 * radius ** 2, 2 * 3.14 * radius)\n",
    "\n",
    "print(\"nhập bán kính\")\n",
    "radius = input('radius: ')\n",
    "area, perimeter = calCircle(radius)\n",
    "print(\"Area: \", area)\n",
    "print(\"Perimeter: \", perimeter)"
   ]
  },
  {
   "cell_type": "code",
   "execution_count": 12,
   "metadata": {},
   "outputs": [
    {
     "name": "stdout",
     "output_type": "stream",
     "text": [
      "x-intercept:  -2\n",
      "y-intercept:  1.0\n",
      "Slope:  2.0\n"
     ]
    }
   ],
   "source": [
    "#Ex5\n",
    "def calSlope(x1, y1, x2, y2):\n",
    "    return (y2 - y1) / (x2 - x1)\n",
    "\n",
    "# y = 2x - 2\n",
    "# x= 2y - 2\n",
    "# y = 0.5x + 1\n",
    "x1 = 3\n",
    "x2 = 5\n",
    "y1 = 2*x1-2\n",
    "y2 = 2*x2-2\n",
    "slopeTask5 = calSlope(x1, y1, x2, y2)\n",
    "print('x-intercept: ', (0-1)*2)\n",
    "print('y-intercept: ', 0.5*0 + 1)\n",
    "print(\"Slope: \", slopeTask5)"
   ]
  },
  {
   "cell_type": "code",
   "execution_count": 7,
   "metadata": {},
   "outputs": [
    {
     "name": "stdout",
     "output_type": "stream",
     "text": [
      "Slope:  2.0\n",
      "Euclidean:  8.94427190999916\n"
     ]
    }
   ],
   "source": [
    "#Ex6\n",
    "def calSlopeAndEuclidean(x1, y1, x2, y2):\n",
    "    slope = (y2 - y1) / (x2 - x1)\n",
    "    euclidean = ((x2 - x1) ** 2 + (y2 - y1) ** 2) ** 0.5\n",
    "    return slope, euclidean\n",
    "\n",
    "slopeTask6, euclidean = calSlopeAndEuclidean(2,2,6,10)\n",
    "print(\"Slope: \", slopeTask6)\n",
    "print(\"Euclidean: \", euclidean)"
   ]
  },
  {
   "cell_type": "code",
   "execution_count": 11,
   "metadata": {},
   "outputs": [
    {
     "name": "stdout",
     "output_type": "stream",
     "text": [
      "Slope Ex6 bằng Slope Ex5\n"
     ]
    }
   ],
   "source": [
    "#Ex7\n",
    "if slopeTask6 == slopeTask5:\n",
    "    print(\"Slope Ex6 bằng Slope Ex5\")\n",
    "elif slopeTask6 > slopeTask5:\n",
    "    print(\"Slope Ex6 lớn hơn Slope Ex5\")\n",
    "else:\n",
    "    print(\"Slope Ex6 nhỏ hơn Slope Ex5\")\n",
    "    "
   ]
  },
  {
   "cell_type": "code",
   "execution_count": 19,
   "metadata": {},
   "outputs": [
    {
     "name": "stdout",
     "output_type": "stream",
     "text": [
      "When x = -3, y = 0\n"
     ]
    }
   ],
   "source": [
    "#Ex8\n",
    "\n",
    "def findYEqualZero():\n",
    "    # y = x**2 + 6*x + 9\n",
    "    for i in range(-10, 11):\n",
    "        y = i**2 + 6*i + 9\n",
    "        if y == 0:\n",
    "            return i\n",
    "    return None\n",
    "x = findYEqualZero()\n",
    "print(f\"When x = {x}, y = 0\")\n"
   ]
  },
  {
   "cell_type": "code",
   "execution_count": 20,
   "metadata": {},
   "outputs": [
    {
     "name": "stdout",
     "output_type": "stream",
     "text": [
      "False\n"
     ]
    }
   ],
   "source": [
    "#Ex9\n",
    "print(len('python') != len('dragon'))"
   ]
  },
  {
   "cell_type": "code",
   "execution_count": 21,
   "metadata": {},
   "outputs": [
    {
     "name": "stdout",
     "output_type": "stream",
     "text": [
      "True\n"
     ]
    }
   ],
   "source": [
    "#Ex10\n",
    "print('on' in 'python' and 'on' in 'dragon')"
   ]
  },
  {
   "cell_type": "code",
   "execution_count": 22,
   "metadata": {},
   "outputs": [
    {
     "name": "stdout",
     "output_type": "stream",
     "text": [
      "True\n"
     ]
    }
   ],
   "source": [
    "#Ex11\n",
    "print('jargon' in 'This course is not full of jargon')"
   ]
  },
  {
   "cell_type": "code",
   "execution_count": 25,
   "metadata": {},
   "outputs": [
    {
     "name": "stdout",
     "output_type": "stream",
     "text": [
      "6.0\n"
     ]
    }
   ],
   "source": [
    "#Ex13\n",
    "text = float(len('python'))\n",
    "str_length = str(text)\n",
    "print(str_length)"
   ]
  },
  {
   "cell_type": "code",
   "execution_count": 26,
   "metadata": {},
   "outputs": [
    {
     "name": "stdout",
     "output_type": "stream",
     "text": [
      "Is 10 even? True\n"
     ]
    }
   ],
   "source": [
    "#Ex14\n",
    "num = 10\n",
    "is_even = num % 2 == 0\n",
    "print(f\"Is {num} even? {is_even}\")"
   ]
  },
  {
   "cell_type": "code",
   "execution_count": null,
   "metadata": {},
   "outputs": [],
   "source": [
    "#Ex15\n",
    "hours = float(input(\"Hours: \"))\n",
    "rate = float(input(\"Rate per hour: \"))\n",
    "pay = hours * rate\n",
    "print(f\"Your weekly earning: {pay}\")"
   ]
  },
  {
   "cell_type": "code",
   "execution_count": 28,
   "metadata": {},
   "outputs": [
    {
     "name": "stdout",
     "output_type": "stream",
     "text": [
      "You have lived for 630,720,000 seconds\n",
      "If you live to 100, you have 2,522,880,000 seconds remaining\n"
     ]
    }
   ],
   "source": [
    "#Ex16\n",
    "years = float(input(\"Enter number of years: \"))\n",
    "seconds_per_year = 365 * 24 * 60 * 60\n",
    "seconds_lived = years * seconds_per_year\n",
    "max_seconds = 100 * seconds_per_year\n",
    "remaining_seconds = max_seconds - seconds_lived\n",
    "\n",
    "print(f\"You have lived for {seconds_lived:,.0f} seconds\")\n",
    "print(f\"If you live to 100, you have {remaining_seconds:,.0f} seconds remaining\")"
   ]
  }
 ],
 "metadata": {
  "kernelspec": {
   "display_name": "Python 3",
   "language": "python",
   "name": "python3"
  },
  "language_info": {
   "codemirror_mode": {
    "name": "ipython",
    "version": 3
   },
   "file_extension": ".py",
   "mimetype": "text/x-python",
   "name": "python",
   "nbconvert_exporter": "python",
   "pygments_lexer": "ipython3",
   "version": "3.12.4"
  }
 },
 "nbformat": 4,
 "nbformat_minor": 2
}
