{
 "cells": [
  {
   "cell_type": "code",
   "execution_count": 1,
   "id": "4f9349a1",
   "metadata": {},
   "outputs": [
    {
     "name": "stdout",
     "output_type": "stream",
     "text": [
      "1\n",
      "2\n",
      "3\n",
      "4\n",
      "5\n",
      "6\n",
      "7\n",
      "8\n",
      "9\n",
      "10\n"
     ]
    }
   ],
   "source": [
    "#write a program that prints numbers from 1 to 10\n",
    "for i in range(10):\n",
    "    print(i+1)\n"
   ]
  },
  {
   "cell_type": "code",
   "execution_count": 2,
   "id": "45a601b3",
   "metadata": {},
   "outputs": [
    {
     "name": "stdout",
     "output_type": "stream",
     "text": [
      "Tong tu 1-34 = 561\n"
     ]
    }
   ],
   "source": [
    "#Write a program to calculate the sum of numbers in a range from 1 to n (n is entered from the keyboard)\n",
    "n = int(input(\"Nhap n: \"))\n",
    "total = 0\n",
    "for i in range(n):\n",
    "    total+=i\n",
    "print(f\"Tong tu 1-{n} = {total}\")"
   ]
  },
  {
   "cell_type": "code",
   "execution_count": 5,
   "id": "33d4d4d8",
   "metadata": {},
   "outputs": [
    {
     "name": "stdout",
     "output_type": "stream",
     "text": [
      "12\n",
      "16\n"
     ]
    }
   ],
   "source": [
    "#Write a program to calculate the sum of even (/odd) numbers in a range from 1 to n (n is entered from the keyboard)\n",
    "n = int(input(\"Nhap n: \"))\n",
    "\n",
    "def sumToN(n, isOdd = False):\n",
    "    total = 0\n",
    "    for i in range(1, n + 1):\n",
    "        if (i % 2 == isOdd):\n",
    "            total += i\n",
    "    return total\n",
    "\n",
    "print(sumToN(n))\n",
    "print(sumToN(n,True))"
   ]
  },
  {
   "cell_type": "code",
   "execution_count": 13,
   "id": "b2357db2",
   "metadata": {},
   "outputs": [
    {
     "name": "stdout",
     "output_type": "stream",
     "text": [
      "'pyhtonaaa' co 4 nguyen am\n"
     ]
    }
   ],
   "source": [
    "#Write a program to check how many vowels are in a string entered from the keyboard.\n",
    "def countVowel(s):\n",
    "    vowels= 'ueoaiUEOAI'\n",
    "    total = 0\n",
    "    for c in s:\n",
    "        if c in vowels:\n",
    "            total+=1\n",
    "    return total\n",
    "\n",
    "s = input('Nhap: ')\n",
    "cV = countVowel(s)\n",
    "print(f\"'{s}' co {cV} nguyen am\")"
   ]
  },
  {
   "cell_type": "code",
   "execution_count": 14,
   "id": "43a1dcf1",
   "metadata": {},
   "outputs": [
    {
     "name": "stdout",
     "output_type": "stream",
     "text": [
      "Trong cau 'hello how are you' co 4 tu\n"
     ]
    }
   ],
   "source": [
    "#Write a program to count the number of words in a sentence the user enters.\n",
    "def countWord(text):\n",
    "    words = text.split()\n",
    "    return len(words)\n",
    "\n",
    "text = input('Nhap: ')\n",
    "print(f\"Trong cau '{text}' co {countWord(text)} tu\")"
   ]
  },
  {
   "cell_type": "code",
   "execution_count": 25,
   "id": "c44cf879",
   "metadata": {},
   "outputs": [
    {
     "name": "stdout",
     "output_type": "stream",
     "text": [
      "--- ❌ Sai. Mang: 4 ❤️ ---\n",
      "Gợi ý: Lớn hơn\n",
      "--- ❌ Sai. Mang: 3 ❤️ ---\n",
      "Gợi ý: Lớn hơn\n",
      "--- ❌ Sai. Mang: 2 ❤️ ---\n",
      "Gợi ý: Lớn hơn\n",
      "--- ❌ Sai. Mang: 1 ❤️ ---\n",
      "Gợi ý: Nhỏ hơn\n",
      "--- ❌ Sai. Mang: 0 ❤️ ---\n",
      "Bạn đã không đoán được đáp án là: 90\n",
      "Ban co muon choi tiep (y/n)\n"
     ]
    }
   ],
   "source": [
    "# Write a program that implements a game as the following description:\n",
    "\n",
    "# \t1. The computer generates a random number from 1 to 100\n",
    "\n",
    "# \t2. The user was asked to guess\n",
    "\n",
    "# \t3. match the user-guessing number to the generated number\n",
    "\n",
    "# The user can only guess five times.\n",
    "import random\n",
    "def game():\n",
    "    while True:\n",
    "        secret = random.randint(1, 100)\n",
    "        times = 5\n",
    "        while times > 0:\n",
    "            guess = int(input(\"Doan: \"))\n",
    "            if guess == secret:\n",
    "                print(f\" ✅ Ban da doan dung. Ket qua la {secret}\")\n",
    "                break\n",
    "            times -= 1\n",
    "            print(f\"--- ❌ Sai. Mang: {times} ❤️ ---\")\n",
    "            if times == 0:\n",
    "                print(f\"Bạn đã không đoán được đáp án là: {secret}\")\n",
    "                break\n",
    "\n",
    "            if guess > secret:\n",
    "                print(\"Gợi ý: Nhỏ hơn\")\n",
    "            else:\n",
    "                print(\"Gợi ý: Lớn hơn\")\n",
    "\n",
    "        print(\"Ban co muon choi tiep (y/n)\")\n",
    "        again = input(\"(y/n)\")\n",
    "        if again == 'n':\n",
    "            break\n",
    "\n",
    "game()\n",
    "        "
   ]
  }
 ],
 "metadata": {
  "kernelspec": {
   "display_name": "Python 3",
   "language": "python",
   "name": "python3"
  },
  "language_info": {
   "codemirror_mode": {
    "name": "ipython",
    "version": 3
   },
   "file_extension": ".py",
   "mimetype": "text/x-python",
   "name": "python",
   "nbconvert_exporter": "python",
   "pygments_lexer": "ipython3",
   "version": "3.12.4"
  }
 },
 "nbformat": 4,
 "nbformat_minor": 5
}
