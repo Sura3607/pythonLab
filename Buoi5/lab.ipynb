{
 "cells": [
  {
   "cell_type": "code",
   "execution_count": 1,
   "id": "eceef554",
   "metadata": {},
   "outputs": [
    {
     "name": "stdout",
     "output_type": "stream",
     "text": [
      "15\n"
     ]
    }
   ],
   "source": [
    "#Ex1\n",
    "l = [1,2,3,4,5]\n",
    "sum = 0\n",
    "for i in l:\n",
    "    sum+=i\n",
    "print(sum)"
   ]
  },
  {
   "cell_type": "code",
   "execution_count": 3,
   "id": "5f47d565",
   "metadata": {},
   "outputs": [
    {
     "name": "stdout",
     "output_type": "stream",
     "text": [
      "86400\n"
     ]
    }
   ],
   "source": [
    "#Ex2\n",
    "l = [2,3,4,5,60,12]\n",
    "mutiply = 1\n",
    "for i in l:\n",
    "    mutiply *= i\n",
    "print(mutiply)"
   ]
  },
  {
   "cell_type": "code",
   "execution_count": 5,
   "id": "2c164e99",
   "metadata": {},
   "outputs": [
    {
     "name": "stdout",
     "output_type": "stream",
     "text": [
      "60\n"
     ]
    }
   ],
   "source": [
    "#Ex3\n",
    "l = [2,3,4,5,60,12]\n",
    "largest = l[0]\n",
    "for i in l:\n",
    "    if i > largest:\n",
    "        largest = i\n",
    "print(largest)"
   ]
  },
  {
   "cell_type": "code",
   "execution_count": 6,
   "id": "3b7ebb41",
   "metadata": {},
   "outputs": [
    {
     "name": "stdout",
     "output_type": "stream",
     "text": [
      "-4\n"
     ]
    }
   ],
   "source": [
    "#Ex4\n",
    "l = [2,3,4,-4,60,12]\n",
    "smallest = l[0]\n",
    "for i in l:\n",
    "    if i < smallest:\n",
    "        smallest = i\n",
    "print(smallest)"
   ]
  },
  {
   "cell_type": "code",
   "execution_count": 7,
   "id": "374f257a",
   "metadata": {},
   "outputs": [
    {
     "name": "stdout",
     "output_type": "stream",
     "text": [
      "2\n"
     ]
    }
   ],
   "source": [
    "#Ex5\n",
    "def Ex5(l):\n",
    "    count=0\n",
    "    for i in l:\n",
    "        if len(i)> 1 and i[0] == i[-1]:\n",
    "            count+=1\n",
    "    return count\n",
    "\n",
    "l = ['abc','xyz','aba','1221']\n",
    "print(Ex5(l))"
   ]
  },
  {
   "cell_type": "code",
   "execution_count": 22,
   "id": "7b0f4f83",
   "metadata": {},
   "outputs": [
    {
     "name": "stdout",
     "output_type": "stream",
     "text": [
      "[(2, 1), (1, 2), (2, 3), (4, 4), (2, 5)]\n"
     ]
    }
   ],
   "source": [
    "#Ex6\n",
    "def last(n):\n",
    "    return n[1]\n",
    "def sort(a):\n",
    "    return sorted(a,key = last)\n",
    "\n",
    "l = [(2,5),(1,2),(4,4),(2,3),(2,1)]\n",
    "\n",
    "print(sort(l))"
   ]
  },
  {
   "cell_type": "code",
   "execution_count": null,
   "id": "21e6ccdf",
   "metadata": {},
   "outputs": [],
   "source": []
  }
 ],
 "metadata": {
  "kernelspec": {
   "display_name": "Python 3",
   "language": "python",
   "name": "python3"
  },
  "language_info": {
   "codemirror_mode": {
    "name": "ipython",
    "version": 3
   },
   "file_extension": ".py",
   "mimetype": "text/x-python",
   "name": "python",
   "nbconvert_exporter": "python",
   "pygments_lexer": "ipython3",
   "version": "3.12.4"
  }
 },
 "nbformat": 4,
 "nbformat_minor": 5
}
